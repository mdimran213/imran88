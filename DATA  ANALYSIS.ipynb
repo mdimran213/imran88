{
 "cells": [
  {
   "cell_type": "code",
   "execution_count": 1,
   "id": "8695db55",
   "metadata": {},
   "outputs": [],
   "source": [
    "import pandas as pd\n",
    "import numpy as np\n",
    "import matplotlib.pyplot as plt"
   ]
  },
  {
   "cell_type": "code",
   "execution_count": 3,
   "id": "aadc91b0",
   "metadata": {},
   "outputs": [
    {
     "name": "stderr",
     "output_type": "stream",
     "text": [
      "C:\\Users\\Md Imran\\AppData\\Local\\Temp\\ipykernel_8624\\4104049821.py:1: DtypeWarning: Columns (3) have mixed types. Specify dtype option on import or set low_memory=False.\n",
      "  df = pd.read_csv('covid19india.csv')\n"
     ]
    }
   ],
   "source": [
    "df = pd.read_csv('covid19india.csv')"
   ]
  },
  {
   "cell_type": "code",
   "execution_count": 4,
   "id": "ec5e1cb4",
   "metadata": {},
   "outputs": [
    {
     "data": {
      "text/html": [
       "<div>\n",
       "<style scoped>\n",
       "    .dataframe tbody tr th:only-of-type {\n",
       "        vertical-align: middle;\n",
       "    }\n",
       "\n",
       "    .dataframe tbody tr th {\n",
       "        vertical-align: top;\n",
       "    }\n",
       "\n",
       "    .dataframe thead th {\n",
       "        text-align: right;\n",
       "    }\n",
       "</style>\n",
       "<table border=\"1\" class=\"dataframe\">\n",
       "  <thead>\n",
       "    <tr style=\"text-align: right;\">\n",
       "      <th></th>\n",
       "      <th>Unnamed: 0</th>\n",
       "      <th>Num Cases</th>\n",
       "      <th>Date Announced</th>\n",
       "      <th>Age Bracket</th>\n",
       "      <th>Gender</th>\n",
       "      <th>Detected City</th>\n",
       "      <th>Detected District</th>\n",
       "      <th>Detected State</th>\n",
       "      <th>Current Status</th>\n",
       "      <th>Day</th>\n",
       "      <th>month</th>\n",
       "      <th>year</th>\n",
       "    </tr>\n",
       "  </thead>\n",
       "  <tbody>\n",
       "    <tr>\n",
       "      <th>0</th>\n",
       "      <td>0</td>\n",
       "      <td>38.0</td>\n",
       "      <td>27/04/2020</td>\n",
       "      <td>NaN</td>\n",
       "      <td>NaN</td>\n",
       "      <td>NaN</td>\n",
       "      <td>NaN</td>\n",
       "      <td>West Bengal</td>\n",
       "      <td>Hospitalized</td>\n",
       "      <td>27</td>\n",
       "      <td>4</td>\n",
       "      <td>2020</td>\n",
       "    </tr>\n",
       "    <tr>\n",
       "      <th>1</th>\n",
       "      <td>1</td>\n",
       "      <td>2.0</td>\n",
       "      <td>27/04/2020</td>\n",
       "      <td>NaN</td>\n",
       "      <td>NaN</td>\n",
       "      <td>NaN</td>\n",
       "      <td>Bhilwara</td>\n",
       "      <td>Rajasthan</td>\n",
       "      <td>Hospitalized</td>\n",
       "      <td>27</td>\n",
       "      <td>4</td>\n",
       "      <td>2020</td>\n",
       "    </tr>\n",
       "    <tr>\n",
       "      <th>2</th>\n",
       "      <td>2</td>\n",
       "      <td>9.0</td>\n",
       "      <td>27/04/2020</td>\n",
       "      <td>NaN</td>\n",
       "      <td>NaN</td>\n",
       "      <td>NaN</td>\n",
       "      <td>Jaipur</td>\n",
       "      <td>Rajasthan</td>\n",
       "      <td>Hospitalized</td>\n",
       "      <td>27</td>\n",
       "      <td>4</td>\n",
       "      <td>2020</td>\n",
       "    </tr>\n",
       "    <tr>\n",
       "      <th>3</th>\n",
       "      <td>3</td>\n",
       "      <td>1.0</td>\n",
       "      <td>27/04/2020</td>\n",
       "      <td>28.0</td>\n",
       "      <td>M</td>\n",
       "      <td>Surajpol</td>\n",
       "      <td>Jaipur</td>\n",
       "      <td>Rajasthan</td>\n",
       "      <td>Deceased</td>\n",
       "      <td>27</td>\n",
       "      <td>4</td>\n",
       "      <td>2020</td>\n",
       "    </tr>\n",
       "    <tr>\n",
       "      <th>4</th>\n",
       "      <td>4</td>\n",
       "      <td>1.0</td>\n",
       "      <td>27/04/2020</td>\n",
       "      <td>NaN</td>\n",
       "      <td>NaN</td>\n",
       "      <td>NaN</td>\n",
       "      <td>Jaisalmer</td>\n",
       "      <td>Rajasthan</td>\n",
       "      <td>Hospitalized</td>\n",
       "      <td>27</td>\n",
       "      <td>4</td>\n",
       "      <td>2020</td>\n",
       "    </tr>\n",
       "    <tr>\n",
       "      <th>...</th>\n",
       "      <td>...</td>\n",
       "      <td>...</td>\n",
       "      <td>...</td>\n",
       "      <td>...</td>\n",
       "      <td>...</td>\n",
       "      <td>...</td>\n",
       "      <td>...</td>\n",
       "      <td>...</td>\n",
       "      <td>...</td>\n",
       "      <td>...</td>\n",
       "      <td>...</td>\n",
       "      <td>...</td>\n",
       "    </tr>\n",
       "    <tr>\n",
       "      <th>138500</th>\n",
       "      <td>22790</td>\n",
       "      <td>2.0</td>\n",
       "      <td>07/07/2020</td>\n",
       "      <td>NaN</td>\n",
       "      <td>NaN</td>\n",
       "      <td>NaN</td>\n",
       "      <td>Dadra and Nagar Haveli</td>\n",
       "      <td>Dadra and Nagar Haveli and Daman and Diu</td>\n",
       "      <td>Hospitalized</td>\n",
       "      <td>7</td>\n",
       "      <td>7</td>\n",
       "      <td>2020</td>\n",
       "    </tr>\n",
       "    <tr>\n",
       "      <th>138501</th>\n",
       "      <td>22791</td>\n",
       "      <td>-9.0</td>\n",
       "      <td>07/07/2020</td>\n",
       "      <td>NaN</td>\n",
       "      <td>NaN</td>\n",
       "      <td>NaN</td>\n",
       "      <td>NaN</td>\n",
       "      <td>Sikkim</td>\n",
       "      <td>Recovered</td>\n",
       "      <td>7</td>\n",
       "      <td>7</td>\n",
       "      <td>2020</td>\n",
       "    </tr>\n",
       "    <tr>\n",
       "      <th>138502</th>\n",
       "      <td>22792</td>\n",
       "      <td>-6.0</td>\n",
       "      <td>07/07/2020</td>\n",
       "      <td>NaN</td>\n",
       "      <td>NaN</td>\n",
       "      <td>NaN</td>\n",
       "      <td>NaN</td>\n",
       "      <td>Sikkim</td>\n",
       "      <td>Recovered</td>\n",
       "      <td>7</td>\n",
       "      <td>7</td>\n",
       "      <td>2020</td>\n",
       "    </tr>\n",
       "    <tr>\n",
       "      <th>138503</th>\n",
       "      <td>22793</td>\n",
       "      <td>-1.0</td>\n",
       "      <td>07/07/2020</td>\n",
       "      <td>NaN</td>\n",
       "      <td>NaN</td>\n",
       "      <td>NaN</td>\n",
       "      <td>Kozhikode</td>\n",
       "      <td>Kerala</td>\n",
       "      <td>Recovered</td>\n",
       "      <td>7</td>\n",
       "      <td>7</td>\n",
       "      <td>2020</td>\n",
       "    </tr>\n",
       "    <tr>\n",
       "      <th>138504</th>\n",
       "      <td>22794</td>\n",
       "      <td>1.0</td>\n",
       "      <td>07/07/2020</td>\n",
       "      <td>NaN</td>\n",
       "      <td>NaN</td>\n",
       "      <td>NaN</td>\n",
       "      <td>Wayanad</td>\n",
       "      <td>Kerala</td>\n",
       "      <td>Recovered</td>\n",
       "      <td>7</td>\n",
       "      <td>7</td>\n",
       "      <td>2020</td>\n",
       "    </tr>\n",
       "  </tbody>\n",
       "</table>\n",
       "<p>138505 rows × 12 columns</p>\n",
       "</div>"
      ],
      "text/plain": [
       "        Unnamed: 0  Num Cases Date Announced Age Bracket Gender Detected City  \\\n",
       "0                0       38.0     27/04/2020         NaN    NaN           NaN   \n",
       "1                1        2.0     27/04/2020         NaN    NaN           NaN   \n",
       "2                2        9.0     27/04/2020         NaN    NaN           NaN   \n",
       "3                3        1.0     27/04/2020        28.0      M      Surajpol   \n",
       "4                4        1.0     27/04/2020         NaN    NaN           NaN   \n",
       "...            ...        ...            ...         ...    ...           ...   \n",
       "138500       22790        2.0     07/07/2020         NaN    NaN           NaN   \n",
       "138501       22791       -9.0     07/07/2020         NaN    NaN           NaN   \n",
       "138502       22792       -6.0     07/07/2020         NaN    NaN           NaN   \n",
       "138503       22793       -1.0     07/07/2020         NaN    NaN           NaN   \n",
       "138504       22794        1.0     07/07/2020         NaN    NaN           NaN   \n",
       "\n",
       "             Detected District                            Detected State  \\\n",
       "0                          NaN                               West Bengal   \n",
       "1                     Bhilwara                                 Rajasthan   \n",
       "2                       Jaipur                                 Rajasthan   \n",
       "3                       Jaipur                                 Rajasthan   \n",
       "4                    Jaisalmer                                 Rajasthan   \n",
       "...                        ...                                       ...   \n",
       "138500  Dadra and Nagar Haveli  Dadra and Nagar Haveli and Daman and Diu   \n",
       "138501                     NaN                                    Sikkim   \n",
       "138502                     NaN                                    Sikkim   \n",
       "138503               Kozhikode                                    Kerala   \n",
       "138504                 Wayanad                                    Kerala   \n",
       "\n",
       "       Current Status  Day  month  year  \n",
       "0        Hospitalized   27      4  2020  \n",
       "1        Hospitalized   27      4  2020  \n",
       "2        Hospitalized   27      4  2020  \n",
       "3            Deceased   27      4  2020  \n",
       "4        Hospitalized   27      4  2020  \n",
       "...               ...  ...    ...   ...  \n",
       "138500   Hospitalized    7      7  2020  \n",
       "138501      Recovered    7      7  2020  \n",
       "138502      Recovered    7      7  2020  \n",
       "138503      Recovered    7      7  2020  \n",
       "138504      Recovered    7      7  2020  \n",
       "\n",
       "[138505 rows x 12 columns]"
      ]
     },
     "execution_count": 4,
     "metadata": {},
     "output_type": "execute_result"
    }
   ],
   "source": [
    "df"
   ]
  },
  {
   "cell_type": "code",
   "execution_count": 5,
   "id": "6f3735f5",
   "metadata": {},
   "outputs": [],
   "source": [
    " data = df.iloc[:,1:]"
   ]
  },
  {
   "cell_type": "code",
   "execution_count": 6,
   "id": "883324d5",
   "metadata": {},
   "outputs": [
    {
     "data": {
      "text/html": [
       "<div>\n",
       "<style scoped>\n",
       "    .dataframe tbody tr th:only-of-type {\n",
       "        vertical-align: middle;\n",
       "    }\n",
       "\n",
       "    .dataframe tbody tr th {\n",
       "        vertical-align: top;\n",
       "    }\n",
       "\n",
       "    .dataframe thead th {\n",
       "        text-align: right;\n",
       "    }\n",
       "</style>\n",
       "<table border=\"1\" class=\"dataframe\">\n",
       "  <thead>\n",
       "    <tr style=\"text-align: right;\">\n",
       "      <th></th>\n",
       "      <th>Num Cases</th>\n",
       "      <th>Date Announced</th>\n",
       "      <th>Age Bracket</th>\n",
       "      <th>Gender</th>\n",
       "      <th>Detected City</th>\n",
       "      <th>Detected District</th>\n",
       "      <th>Detected State</th>\n",
       "      <th>Current Status</th>\n",
       "      <th>Day</th>\n",
       "      <th>month</th>\n",
       "      <th>year</th>\n",
       "    </tr>\n",
       "  </thead>\n",
       "  <tbody>\n",
       "    <tr>\n",
       "      <th>0</th>\n",
       "      <td>38.0</td>\n",
       "      <td>27/04/2020</td>\n",
       "      <td>NaN</td>\n",
       "      <td>NaN</td>\n",
       "      <td>NaN</td>\n",
       "      <td>NaN</td>\n",
       "      <td>West Bengal</td>\n",
       "      <td>Hospitalized</td>\n",
       "      <td>27</td>\n",
       "      <td>4</td>\n",
       "      <td>2020</td>\n",
       "    </tr>\n",
       "    <tr>\n",
       "      <th>1</th>\n",
       "      <td>2.0</td>\n",
       "      <td>27/04/2020</td>\n",
       "      <td>NaN</td>\n",
       "      <td>NaN</td>\n",
       "      <td>NaN</td>\n",
       "      <td>Bhilwara</td>\n",
       "      <td>Rajasthan</td>\n",
       "      <td>Hospitalized</td>\n",
       "      <td>27</td>\n",
       "      <td>4</td>\n",
       "      <td>2020</td>\n",
       "    </tr>\n",
       "    <tr>\n",
       "      <th>2</th>\n",
       "      <td>9.0</td>\n",
       "      <td>27/04/2020</td>\n",
       "      <td>NaN</td>\n",
       "      <td>NaN</td>\n",
       "      <td>NaN</td>\n",
       "      <td>Jaipur</td>\n",
       "      <td>Rajasthan</td>\n",
       "      <td>Hospitalized</td>\n",
       "      <td>27</td>\n",
       "      <td>4</td>\n",
       "      <td>2020</td>\n",
       "    </tr>\n",
       "    <tr>\n",
       "      <th>3</th>\n",
       "      <td>1.0</td>\n",
       "      <td>27/04/2020</td>\n",
       "      <td>28.0</td>\n",
       "      <td>M</td>\n",
       "      <td>Surajpol</td>\n",
       "      <td>Jaipur</td>\n",
       "      <td>Rajasthan</td>\n",
       "      <td>Deceased</td>\n",
       "      <td>27</td>\n",
       "      <td>4</td>\n",
       "      <td>2020</td>\n",
       "    </tr>\n",
       "    <tr>\n",
       "      <th>4</th>\n",
       "      <td>1.0</td>\n",
       "      <td>27/04/2020</td>\n",
       "      <td>NaN</td>\n",
       "      <td>NaN</td>\n",
       "      <td>NaN</td>\n",
       "      <td>Jaisalmer</td>\n",
       "      <td>Rajasthan</td>\n",
       "      <td>Hospitalized</td>\n",
       "      <td>27</td>\n",
       "      <td>4</td>\n",
       "      <td>2020</td>\n",
       "    </tr>\n",
       "    <tr>\n",
       "      <th>...</th>\n",
       "      <td>...</td>\n",
       "      <td>...</td>\n",
       "      <td>...</td>\n",
       "      <td>...</td>\n",
       "      <td>...</td>\n",
       "      <td>...</td>\n",
       "      <td>...</td>\n",
       "      <td>...</td>\n",
       "      <td>...</td>\n",
       "      <td>...</td>\n",
       "      <td>...</td>\n",
       "    </tr>\n",
       "    <tr>\n",
       "      <th>138500</th>\n",
       "      <td>2.0</td>\n",
       "      <td>07/07/2020</td>\n",
       "      <td>NaN</td>\n",
       "      <td>NaN</td>\n",
       "      <td>NaN</td>\n",
       "      <td>Dadra and Nagar Haveli</td>\n",
       "      <td>Dadra and Nagar Haveli and Daman and Diu</td>\n",
       "      <td>Hospitalized</td>\n",
       "      <td>7</td>\n",
       "      <td>7</td>\n",
       "      <td>2020</td>\n",
       "    </tr>\n",
       "    <tr>\n",
       "      <th>138501</th>\n",
       "      <td>-9.0</td>\n",
       "      <td>07/07/2020</td>\n",
       "      <td>NaN</td>\n",
       "      <td>NaN</td>\n",
       "      <td>NaN</td>\n",
       "      <td>NaN</td>\n",
       "      <td>Sikkim</td>\n",
       "      <td>Recovered</td>\n",
       "      <td>7</td>\n",
       "      <td>7</td>\n",
       "      <td>2020</td>\n",
       "    </tr>\n",
       "    <tr>\n",
       "      <th>138502</th>\n",
       "      <td>-6.0</td>\n",
       "      <td>07/07/2020</td>\n",
       "      <td>NaN</td>\n",
       "      <td>NaN</td>\n",
       "      <td>NaN</td>\n",
       "      <td>NaN</td>\n",
       "      <td>Sikkim</td>\n",
       "      <td>Recovered</td>\n",
       "      <td>7</td>\n",
       "      <td>7</td>\n",
       "      <td>2020</td>\n",
       "    </tr>\n",
       "    <tr>\n",
       "      <th>138503</th>\n",
       "      <td>-1.0</td>\n",
       "      <td>07/07/2020</td>\n",
       "      <td>NaN</td>\n",
       "      <td>NaN</td>\n",
       "      <td>NaN</td>\n",
       "      <td>Kozhikode</td>\n",
       "      <td>Kerala</td>\n",
       "      <td>Recovered</td>\n",
       "      <td>7</td>\n",
       "      <td>7</td>\n",
       "      <td>2020</td>\n",
       "    </tr>\n",
       "    <tr>\n",
       "      <th>138504</th>\n",
       "      <td>1.0</td>\n",
       "      <td>07/07/2020</td>\n",
       "      <td>NaN</td>\n",
       "      <td>NaN</td>\n",
       "      <td>NaN</td>\n",
       "      <td>Wayanad</td>\n",
       "      <td>Kerala</td>\n",
       "      <td>Recovered</td>\n",
       "      <td>7</td>\n",
       "      <td>7</td>\n",
       "      <td>2020</td>\n",
       "    </tr>\n",
       "  </tbody>\n",
       "</table>\n",
       "<p>138505 rows × 11 columns</p>\n",
       "</div>"
      ],
      "text/plain": [
       "        Num Cases Date Announced Age Bracket Gender Detected City  \\\n",
       "0            38.0     27/04/2020         NaN    NaN           NaN   \n",
       "1             2.0     27/04/2020         NaN    NaN           NaN   \n",
       "2             9.0     27/04/2020         NaN    NaN           NaN   \n",
       "3             1.0     27/04/2020        28.0      M      Surajpol   \n",
       "4             1.0     27/04/2020         NaN    NaN           NaN   \n",
       "...           ...            ...         ...    ...           ...   \n",
       "138500        2.0     07/07/2020         NaN    NaN           NaN   \n",
       "138501       -9.0     07/07/2020         NaN    NaN           NaN   \n",
       "138502       -6.0     07/07/2020         NaN    NaN           NaN   \n",
       "138503       -1.0     07/07/2020         NaN    NaN           NaN   \n",
       "138504        1.0     07/07/2020         NaN    NaN           NaN   \n",
       "\n",
       "             Detected District                            Detected State  \\\n",
       "0                          NaN                               West Bengal   \n",
       "1                     Bhilwara                                 Rajasthan   \n",
       "2                       Jaipur                                 Rajasthan   \n",
       "3                       Jaipur                                 Rajasthan   \n",
       "4                    Jaisalmer                                 Rajasthan   \n",
       "...                        ...                                       ...   \n",
       "138500  Dadra and Nagar Haveli  Dadra and Nagar Haveli and Daman and Diu   \n",
       "138501                     NaN                                    Sikkim   \n",
       "138502                     NaN                                    Sikkim   \n",
       "138503               Kozhikode                                    Kerala   \n",
       "138504                 Wayanad                                    Kerala   \n",
       "\n",
       "       Current Status  Day  month  year  \n",
       "0        Hospitalized   27      4  2020  \n",
       "1        Hospitalized   27      4  2020  \n",
       "2        Hospitalized   27      4  2020  \n",
       "3            Deceased   27      4  2020  \n",
       "4        Hospitalized   27      4  2020  \n",
       "...               ...  ...    ...   ...  \n",
       "138500   Hospitalized    7      7  2020  \n",
       "138501      Recovered    7      7  2020  \n",
       "138502      Recovered    7      7  2020  \n",
       "138503      Recovered    7      7  2020  \n",
       "138504      Recovered    7      7  2020  \n",
       "\n",
       "[138505 rows x 11 columns]"
      ]
     },
     "execution_count": 6,
     "metadata": {},
     "output_type": "execute_result"
    }
   ],
   "source": [
    "data"
   ]
  },
  {
   "cell_type": "markdown",
   "id": "7904d33c",
   "metadata": {},
   "source": [
    "# inspect the data frame"
   ]
  },
  {
   "cell_type": "code",
   "execution_count": 7,
   "id": "431656c6",
   "metadata": {},
   "outputs": [
    {
     "name": "stdout",
     "output_type": "stream",
     "text": [
      "<class 'pandas.core.frame.DataFrame'>\n",
      "RangeIndex: 138505 entries, 0 to 138504\n",
      "Data columns (total 11 columns):\n",
      " #   Column             Non-Null Count   Dtype  \n",
      "---  ------             --------------   -----  \n",
      " 0   Num Cases          138501 non-null  float64\n",
      " 1   Date Announced     138505 non-null  object \n",
      " 2   Age Bracket        63526 non-null   object \n",
      " 3   Gender             63716 non-null   object \n",
      " 4   Detected City      9204 non-null    object \n",
      " 5   Detected District  132407 non-null  object \n",
      " 6   Detected State     138492 non-null  object \n",
      " 7   Current Status     138503 non-null  object \n",
      " 8   Day                138505 non-null  int64  \n",
      " 9   month              138505 non-null  int64  \n",
      " 10  year               138505 non-null  int64  \n",
      "dtypes: float64(1), int64(3), object(7)\n",
      "memory usage: 11.6+ MB\n"
     ]
    }
   ],
   "source": [
    "data.info()"
   ]
  },
  {
   "cell_type": "markdown",
   "id": "dec8dbe4",
   "metadata": {},
   "source": [
    "# inspect null values in each column"
   ]
  },
  {
   "cell_type": "code",
   "execution_count": 14,
   "id": "75cee77e",
   "metadata": {},
   "outputs": [
    {
     "data": {
      "text/plain": [
       "Detected City        93.354753\n",
       "Age Bracket          54.134508\n",
       "Gender               53.997329\n",
       "Detected District     4.402729\n",
       "Detected State        0.009386\n",
       "Num Cases             0.002888\n",
       "Current Status        0.001444\n",
       "Date Announced        0.000000\n",
       "Day                   0.000000\n",
       "month                 0.000000\n",
       "year                  0.000000\n",
       "dtype: float64"
      ]
     },
     "execution_count": 14,
     "metadata": {},
     "output_type": "execute_result"
    }
   ],
   "source": [
    "data.isnull().sum(axis=0).sort_values(ascending=False)/len(data)*100"
   ]
  },
  {
   "cell_type": "code",
   "execution_count": 15,
   "id": "d1dd5e4a",
   "metadata": {},
   "outputs": [
    {
     "data": {
      "text/plain": [
       "Detected City        93.35\n",
       "Age Bracket          54.13\n",
       "Gender               54.00\n",
       "Detected District     4.40\n",
       "Detected State        0.01\n",
       "Num Cases             0.00\n",
       "Current Status        0.00\n",
       "Date Announced        0.00\n",
       "Day                   0.00\n",
       "month                 0.00\n",
       "year                  0.00\n",
       "dtype: float64"
      ]
     },
     "execution_count": 15,
     "metadata": {},
     "output_type": "execute_result"
    }
   ],
   "source": [
    "round(data.isnull().sum(axis=0).sort_values(ascending=False)/len(data)*100,2)"
   ]
  },
  {
   "cell_type": "code",
   "execution_count": 21,
   "id": "79a8a4f6",
   "metadata": {},
   "outputs": [
    {
     "data": {
      "text/plain": [
       "268      6\n",
       "21107    6\n",
       "61665    6\n",
       "61664    6\n",
       "215      5\n",
       "        ..\n",
       "83071    0\n",
       "83070    0\n",
       "83069    0\n",
       "83068    0\n",
       "84642    0\n",
       "Length: 138505, dtype: int64"
      ]
     },
     "execution_count": 21,
     "metadata": {},
     "output_type": "execute_result"
    }
   ],
   "source": [
    "data.isnull().sum(axis=1).sort_values(ascending=False)"
   ]
  },
  {
   "cell_type": "markdown",
   "id": "37d5e9ec",
   "metadata": {},
   "source": [
    "# total covid cases month wise"
   ]
  },
  {
   "cell_type": "code",
   "execution_count": 22,
   "id": "62e02703",
   "metadata": {},
   "outputs": [
    {
     "data": {
      "text/html": [
       "<div>\n",
       "<style scoped>\n",
       "    .dataframe tbody tr th:only-of-type {\n",
       "        vertical-align: middle;\n",
       "    }\n",
       "\n",
       "    .dataframe tbody tr th {\n",
       "        vertical-align: top;\n",
       "    }\n",
       "\n",
       "    .dataframe thead th {\n",
       "        text-align: right;\n",
       "    }\n",
       "</style>\n",
       "<table border=\"1\" class=\"dataframe\">\n",
       "  <thead>\n",
       "    <tr style=\"text-align: right;\">\n",
       "      <th></th>\n",
       "      <th>Num Cases</th>\n",
       "      <th>Date Announced</th>\n",
       "      <th>Age Bracket</th>\n",
       "      <th>Gender</th>\n",
       "      <th>Detected City</th>\n",
       "      <th>Detected District</th>\n",
       "      <th>Detected State</th>\n",
       "      <th>Current Status</th>\n",
       "      <th>Day</th>\n",
       "      <th>month</th>\n",
       "      <th>year</th>\n",
       "    </tr>\n",
       "  </thead>\n",
       "  <tbody>\n",
       "    <tr>\n",
       "      <th>0</th>\n",
       "      <td>38.0</td>\n",
       "      <td>27/04/2020</td>\n",
       "      <td>NaN</td>\n",
       "      <td>NaN</td>\n",
       "      <td>NaN</td>\n",
       "      <td>NaN</td>\n",
       "      <td>West Bengal</td>\n",
       "      <td>Hospitalized</td>\n",
       "      <td>27</td>\n",
       "      <td>4</td>\n",
       "      <td>2020</td>\n",
       "    </tr>\n",
       "    <tr>\n",
       "      <th>1</th>\n",
       "      <td>2.0</td>\n",
       "      <td>27/04/2020</td>\n",
       "      <td>NaN</td>\n",
       "      <td>NaN</td>\n",
       "      <td>NaN</td>\n",
       "      <td>Bhilwara</td>\n",
       "      <td>Rajasthan</td>\n",
       "      <td>Hospitalized</td>\n",
       "      <td>27</td>\n",
       "      <td>4</td>\n",
       "      <td>2020</td>\n",
       "    </tr>\n",
       "    <tr>\n",
       "      <th>2</th>\n",
       "      <td>9.0</td>\n",
       "      <td>27/04/2020</td>\n",
       "      <td>NaN</td>\n",
       "      <td>NaN</td>\n",
       "      <td>NaN</td>\n",
       "      <td>Jaipur</td>\n",
       "      <td>Rajasthan</td>\n",
       "      <td>Hospitalized</td>\n",
       "      <td>27</td>\n",
       "      <td>4</td>\n",
       "      <td>2020</td>\n",
       "    </tr>\n",
       "    <tr>\n",
       "      <th>3</th>\n",
       "      <td>1.0</td>\n",
       "      <td>27/04/2020</td>\n",
       "      <td>28.0</td>\n",
       "      <td>M</td>\n",
       "      <td>Surajpol</td>\n",
       "      <td>Jaipur</td>\n",
       "      <td>Rajasthan</td>\n",
       "      <td>Deceased</td>\n",
       "      <td>27</td>\n",
       "      <td>4</td>\n",
       "      <td>2020</td>\n",
       "    </tr>\n",
       "    <tr>\n",
       "      <th>4</th>\n",
       "      <td>1.0</td>\n",
       "      <td>27/04/2020</td>\n",
       "      <td>NaN</td>\n",
       "      <td>NaN</td>\n",
       "      <td>NaN</td>\n",
       "      <td>Jaisalmer</td>\n",
       "      <td>Rajasthan</td>\n",
       "      <td>Hospitalized</td>\n",
       "      <td>27</td>\n",
       "      <td>4</td>\n",
       "      <td>2020</td>\n",
       "    </tr>\n",
       "    <tr>\n",
       "      <th>...</th>\n",
       "      <td>...</td>\n",
       "      <td>...</td>\n",
       "      <td>...</td>\n",
       "      <td>...</td>\n",
       "      <td>...</td>\n",
       "      <td>...</td>\n",
       "      <td>...</td>\n",
       "      <td>...</td>\n",
       "      <td>...</td>\n",
       "      <td>...</td>\n",
       "      <td>...</td>\n",
       "    </tr>\n",
       "    <tr>\n",
       "      <th>138500</th>\n",
       "      <td>2.0</td>\n",
       "      <td>07/07/2020</td>\n",
       "      <td>NaN</td>\n",
       "      <td>NaN</td>\n",
       "      <td>NaN</td>\n",
       "      <td>Dadra and Nagar Haveli</td>\n",
       "      <td>Dadra and Nagar Haveli and Daman and Diu</td>\n",
       "      <td>Hospitalized</td>\n",
       "      <td>7</td>\n",
       "      <td>7</td>\n",
       "      <td>2020</td>\n",
       "    </tr>\n",
       "    <tr>\n",
       "      <th>138501</th>\n",
       "      <td>-9.0</td>\n",
       "      <td>07/07/2020</td>\n",
       "      <td>NaN</td>\n",
       "      <td>NaN</td>\n",
       "      <td>NaN</td>\n",
       "      <td>NaN</td>\n",
       "      <td>Sikkim</td>\n",
       "      <td>Recovered</td>\n",
       "      <td>7</td>\n",
       "      <td>7</td>\n",
       "      <td>2020</td>\n",
       "    </tr>\n",
       "    <tr>\n",
       "      <th>138502</th>\n",
       "      <td>-6.0</td>\n",
       "      <td>07/07/2020</td>\n",
       "      <td>NaN</td>\n",
       "      <td>NaN</td>\n",
       "      <td>NaN</td>\n",
       "      <td>NaN</td>\n",
       "      <td>Sikkim</td>\n",
       "      <td>Recovered</td>\n",
       "      <td>7</td>\n",
       "      <td>7</td>\n",
       "      <td>2020</td>\n",
       "    </tr>\n",
       "    <tr>\n",
       "      <th>138503</th>\n",
       "      <td>-1.0</td>\n",
       "      <td>07/07/2020</td>\n",
       "      <td>NaN</td>\n",
       "      <td>NaN</td>\n",
       "      <td>NaN</td>\n",
       "      <td>Kozhikode</td>\n",
       "      <td>Kerala</td>\n",
       "      <td>Recovered</td>\n",
       "      <td>7</td>\n",
       "      <td>7</td>\n",
       "      <td>2020</td>\n",
       "    </tr>\n",
       "    <tr>\n",
       "      <th>138504</th>\n",
       "      <td>1.0</td>\n",
       "      <td>07/07/2020</td>\n",
       "      <td>NaN</td>\n",
       "      <td>NaN</td>\n",
       "      <td>NaN</td>\n",
       "      <td>Wayanad</td>\n",
       "      <td>Kerala</td>\n",
       "      <td>Recovered</td>\n",
       "      <td>7</td>\n",
       "      <td>7</td>\n",
       "      <td>2020</td>\n",
       "    </tr>\n",
       "  </tbody>\n",
       "</table>\n",
       "<p>138505 rows × 11 columns</p>\n",
       "</div>"
      ],
      "text/plain": [
       "        Num Cases Date Announced Age Bracket Gender Detected City  \\\n",
       "0            38.0     27/04/2020         NaN    NaN           NaN   \n",
       "1             2.0     27/04/2020         NaN    NaN           NaN   \n",
       "2             9.0     27/04/2020         NaN    NaN           NaN   \n",
       "3             1.0     27/04/2020        28.0      M      Surajpol   \n",
       "4             1.0     27/04/2020         NaN    NaN           NaN   \n",
       "...           ...            ...         ...    ...           ...   \n",
       "138500        2.0     07/07/2020         NaN    NaN           NaN   \n",
       "138501       -9.0     07/07/2020         NaN    NaN           NaN   \n",
       "138502       -6.0     07/07/2020         NaN    NaN           NaN   \n",
       "138503       -1.0     07/07/2020         NaN    NaN           NaN   \n",
       "138504        1.0     07/07/2020         NaN    NaN           NaN   \n",
       "\n",
       "             Detected District                            Detected State  \\\n",
       "0                          NaN                               West Bengal   \n",
       "1                     Bhilwara                                 Rajasthan   \n",
       "2                       Jaipur                                 Rajasthan   \n",
       "3                       Jaipur                                 Rajasthan   \n",
       "4                    Jaisalmer                                 Rajasthan   \n",
       "...                        ...                                       ...   \n",
       "138500  Dadra and Nagar Haveli  Dadra and Nagar Haveli and Daman and Diu   \n",
       "138501                     NaN                                    Sikkim   \n",
       "138502                     NaN                                    Sikkim   \n",
       "138503               Kozhikode                                    Kerala   \n",
       "138504                 Wayanad                                    Kerala   \n",
       "\n",
       "       Current Status  Day  month  year  \n",
       "0        Hospitalized   27      4  2020  \n",
       "1        Hospitalized   27      4  2020  \n",
       "2        Hospitalized   27      4  2020  \n",
       "3            Deceased   27      4  2020  \n",
       "4        Hospitalized   27      4  2020  \n",
       "...               ...  ...    ...   ...  \n",
       "138500   Hospitalized    7      7  2020  \n",
       "138501      Recovered    7      7  2020  \n",
       "138502      Recovered    7      7  2020  \n",
       "138503      Recovered    7      7  2020  \n",
       "138504      Recovered    7      7  2020  \n",
       "\n",
       "[138505 rows x 11 columns]"
      ]
     },
     "execution_count": 22,
     "metadata": {},
     "output_type": "execute_result"
    }
   ],
   "source": [
    "data"
   ]
  },
  {
   "cell_type": "code",
   "execution_count": 23,
   "id": "428cb524",
   "metadata": {},
   "outputs": [
    {
     "data": {
      "text/plain": [
       "month\n",
       "3         6.0\n",
       "4     30228.0\n",
       "5    282043.0\n",
       "6    663178.0\n",
       "7    270185.0\n",
       "Name: Num Cases, dtype: float64"
      ]
     },
     "execution_count": 23,
     "metadata": {},
     "output_type": "execute_result"
    }
   ],
   "source": [
    "data.groupby('month')['Num Cases'].sum()"
   ]
  },
  {
   "cell_type": "code",
   "execution_count": 28,
   "id": "14a5fc44",
   "metadata": {},
   "outputs": [
    {
     "data": {
      "text/plain": [
       "month\n",
       "4     24538.0\n",
       "5    183780.0\n",
       "6    395144.0\n",
       "7    157701.0\n",
       "Name: Num Cases, dtype: float64"
      ]
     },
     "execution_count": 28,
     "metadata": {},
     "output_type": "execute_result"
    }
   ],
   "source": [
    "m=data[data['Current Status'] == 'Hospitalized'].groupby('month')['Num Cases'].sum()\n",
    "m"
   ]
  },
  {
   "cell_type": "code",
   "execution_count": 29,
   "id": "261e12c5",
   "metadata": {},
   "outputs": [
    {
     "data": {
      "image/png": "[encoded data removed]",
      "text/plain": [
       "<Figure size 432x288 with 1 Axes>"
      ]
     },
     "metadata": {
      "needs_background": "light"
     },
     "output_type": "display_data"
    }
   ],
   "source": [
    "m.plot.bar()\n",
    "plt.show()"
   ]
  },
  {
   "cell_type": "markdown",
   "id": "cad3cded",
   "metadata": {},
   "source": [
    "# Total male/female infected by covid"
   ]
  },
  {
   "cell_type": "code",
   "execution_count": 30,
   "id": "338038f0",
   "metadata": {},
   "outputs": [
    {
     "data": {
      "text/plain": [
       "Gender\n",
       "F             21552.0\n",
       "M             43443.0\n",
       "M                 1.0\n",
       "Non-Binary       14.0\n",
       "Name: Num Cases, dtype: float64"
      ]
     },
     "execution_count": 30,
     "metadata": {},
     "output_type": "execute_result"
    }
   ],
   "source": [
    "data.groupby('Gender')['Num Cases'].sum()"
   ]
  },
  {
   "cell_type": "markdown",
   "id": "cbcee8eb",
   "metadata": {},
   "source": [
    "# Which age is infected most"
   ]
  },
  {
   "cell_type": "code",
   "execution_count": 34,
   "id": "4879f7d7",
   "metadata": {},
   "outputs": [
    {
     "data": {
      "text/plain": [
       "Age Bracket\n",
       "30.0    1291.0\n",
       "40.0    1140.0\n",
       "25.0    1089.0\n",
       "35.0    1041.0\n",
       "32.0    1016.0\n",
       "45.0    1007.0\n",
       "24.0     930.0\n",
       "27.0     907.0\n",
       "26.0     897.0\n",
       "28.0     893.0\n",
       "Name: Num Cases, dtype: float64"
      ]
     },
     "execution_count": 34,
     "metadata": {},
     "output_type": "execute_result"
    }
   ],
   "source": [
    "m=data.groupby('Age Bracket')['Num Cases'].sum().sort_values(ascending=False).head(10)\n",
    "m"
   ]
  },
  {
   "cell_type": "code",
   "execution_count": 35,
   "id": "16c4b55a",
   "metadata": {},
   "outputs": [
    {
     "data": {
      "image/png": "[encoded data removed]",
      "text/plain": [
       "<Figure size 1080x360 with 1 Axes>"
      ]
     },
     "metadata": {
      "needs_background": "light"
     },
     "output_type": "display_data"
    }
   ],
   "source": [
    "m.plot.bar(figsize=(15,5))\n",
    "plt.show()"
   ]
  },
  {
   "cell_type": "code",
   "execution_count": 39,
   "id": "659342f5",
   "metadata": {},
   "outputs": [
    {
     "data": {
      "text/plain": [
       "Detected State\n",
       "Maharashtra                                 225081.0\n",
       "Tamil Nadu                                  121767.0\n",
       "Delhi                                       104452.0\n",
       "Gujarat                                      40389.0\n",
       "Uttar Pradesh                                30368.0\n",
       "Telangana                                    26916.0\n",
       "Karnataka                                    26716.0\n",
       "West Bengal                                  24702.0\n",
       "Rajasthan                                    21449.0\n",
       "Andhra Pradesh                               21383.0\n",
       "Haryana                                      18128.0\n",
       "Madhya Pradesh                               15587.0\n",
       "Assam                                        13328.0\n",
       "Bihar                                        12763.0\n",
       "Odisha                                       10285.0\n",
       "Jammu and Kashmir                             8890.0\n",
       "Punjab                                        7945.0\n",
       "Kerala                                        5530.0\n",
       "State Unassigned                              5034.0\n",
       "Chhattisgarh                                  3401.0\n",
       "Uttarakhand                                   3202.0\n",
       "Jharkhand                                     3051.0\n",
       "Goa                                           1896.0\n",
       "Tripura                                       1847.0\n",
       "Manipur                                       1428.0\n",
       "Himachal Pradesh                              1056.0\n",
       "Ladakh                                        1045.0\n",
       "Puducherry                                    1038.0\n",
       "Nagaland                                       644.0\n",
       "Chandigarh                                     599.0\n",
       "Dadra and Nagar Haveli and Daman and Diu       428.0\n",
       "Arunachal Pradesh                              275.0\n",
       "Mizoram                                        197.0\n",
       "Andaman and Nicobar Islands                    132.0\n",
       "Sikkim                                         127.0\n",
       "Meghalaya                                       84.0\n",
       "Name: Num Cases, dtype: float64"
      ]
     },
     "execution_count": 39,
     "metadata": {},
     "output_type": "execute_result"
    }
   ],
   "source": [
    "m=data[data['Current Status'] == 'Hospitalized'].groupby('Detected State')['Num Cases'].sum().sort_values(ascending=False)\n",
    "m"
   ]
  },
  {
   "cell_type": "code",
   "execution_count": 40,
   "id": "0ecaa7fc",
   "metadata": {},
   "outputs": [
    {
     "data": {
      "image/png": "[encoded data removed]",
      "text/plain": [
       "<Figure size 1080x360 with 1 Axes>"
      ]
     },
     "metadata": {
      "needs_background": "light"
     },
     "output_type": "display_data"
    }
   ],
   "source": [
    "m.plot.bar(figsize=(15,5))\n",
    "plt.show()"
   ]
  },
  {
   "cell_type": "markdown",
   "id": "82554d92",
   "metadata": {},
   "source": [
    "# How many cases every 24 hours"
   ]
  },
  {
   "cell_type": "code",
   "execution_count": 56,
   "id": "a19a18fd",
   "metadata": {},
   "outputs": [
    {
     "data": {
      "text/plain": [
       "array(['Hospitalized', 'Deceased', 'Recovered', 'Migrated_Other', nan,\n",
       "       'Migrated', 'Migrated_other'], dtype=object)"
      ]
     },
     "execution_count": 56,
     "metadata": {},
     "output_type": "execute_result"
    }
   ],
   "source": [
    "data['Current Status'].unique()"
   ]
  },
  {
   "cell_type": "code",
   "execution_count": 57,
   "id": "027bfe13",
   "metadata": {},
   "outputs": [
    {
     "data": {
      "text/plain": [
       "20993.0"
      ]
     },
     "execution_count": 57,
     "metadata": {},
     "output_type": "execute_result"
    }
   ],
   "source": [
    "data[data['Current Status']=='Deceased']['Num Cases'].sum()"
   ]
  },
  {
   "cell_type": "code",
   "execution_count": 59,
   "id": "8621cbd9",
   "metadata": {},
   "outputs": [
    {
     "data": {
      "text/plain": [
       "Detected State\n",
       "Maharashtra                                 9345.0\n",
       "Delhi                                       3125.0\n",
       "Gujarat                                     2148.0\n",
       "Tamil Nadu                                  1632.0\n",
       "West Bengal                                  935.0\n",
       "Uttar Pradesh                                841.0\n",
       "Madhya Pradesh                               627.0\n",
       "Rajasthan                                    496.0\n",
       "Karnataka                                    409.0\n",
       "Telangana                                    293.0\n",
       "Haryana                                      282.0\n",
       "Andhra Pradesh                               234.0\n",
       "Punjab                                       170.0\n",
       "Jammu and Kashmir                            140.0\n",
       "Bihar                                         99.0\n",
       "Odisha                                        55.0\n",
       "Uttarakhand                                   44.0\n",
       "Kerala                                        24.0\n",
       "Jharkhand                                     19.0\n",
       "Assam                                         16.0\n",
       "Chhattisgarh                                  14.0\n",
       "Puducherry                                    14.0\n",
       "Chandigarh                                     9.0\n",
       "Himachal Pradesh                               9.0\n",
       "Goa                                            8.0\n",
       "Arunachal Pradesh                              2.0\n",
       "Ladakh                                         1.0\n",
       "Dadra and Nagar Haveli and Daman and Diu       1.0\n",
       "Tripura                                        1.0\n",
       "Name: Num Cases, dtype: float64"
      ]
     },
     "execution_count": 59,
     "metadata": {},
     "output_type": "execute_result"
    }
   ],
   "source": [
    "data[data['Current Status']=='Deceased'].groupby('Detected State')['Num Cases'].sum().sort_values(ascending=False)"
   ]
  },
  {
   "cell_type": "code",
   "execution_count": null,
   "id": "959cd40b",
   "metadata": {},
   "outputs": [],
   "source": []
  }
 ],
 "metadata": {
  "kernelspec": {
   "display_name": "Python 3 (ipykernel)",
   "language": "python",
   "name": "python3"
  },
  "language_info": {
   "codemirror_mode": {
    "name": "ipython",
    "version": 3
   },
   "file_extension": ".py",
   "mimetype": "text/x-python",
   "name": "python",
   "nbconvert_exporter": "python",
   "pygments_lexer": "ipython3",
   "version": "3.9.12"
  }
 },
 "nbformat": 4,
 "nbformat_minor": 5
}
