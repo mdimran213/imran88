{
 "cells": [
  {
   "cell_type": "code",
   "execution_count": 66,
   "id": "fdacd669",
   "metadata": {},
   "outputs": [],
   "source": [
    "import pandas as pd\n",
    "import numpy as np\n",
    "import matplotlib.pyplot as plt"
   ]
  },
  {
   "cell_type": "code",
   "execution_count": 67,
   "id": "2e11713d",
   "metadata": {},
   "outputs": [
    {
     "name": "stderr",
     "output_type": "stream",
     "text": [
      "C:\\Users\\Md Imran\\AppData\\Local\\Temp\\ipykernel_17648\\535682198.py:1: DtypeWarning: Columns (3) have mixed types. Specify dtype option on import or set low_memory=False.\n",
      "  data = pd.read_csv('covid19india.csv')\n"
     ]
    },
    {
     "data": {
      "text/html": [
       "<div>\n",
       "<style scoped>\n",
       "    .dataframe tbody tr th:only-of-type {\n",
       "        vertical-align: middle;\n",
       "    }\n",
       "\n",
       "    .dataframe tbody tr th {\n",
       "        vertical-align: top;\n",
       "    }\n",
       "\n",
       "    .dataframe thead th {\n",
       "        text-align: right;\n",
       "    }\n",
       "</style>\n",
       "<table border=\"1\" class=\"dataframe\">\n",
       "  <thead>\n",
       "    <tr style=\"text-align: right;\">\n",
       "      <th></th>\n",
       "      <th>Unnamed: 0</th>\n",
       "      <th>Num Cases</th>\n",
       "      <th>Date Announced</th>\n",
       "      <th>Age Bracket</th>\n",
       "      <th>Gender</th>\n",
       "      <th>Detected City</th>\n",
       "      <th>Detected District</th>\n",
       "      <th>Detected State</th>\n",
       "      <th>Current Status</th>\n",
       "      <th>Day</th>\n",
       "      <th>month</th>\n",
       "      <th>year</th>\n",
       "    </tr>\n",
       "  </thead>\n",
       "  <tbody>\n",
       "    <tr>\n",
       "      <th>0</th>\n",
       "      <td>0</td>\n",
       "      <td>38.0</td>\n",
       "      <td>27/04/2020</td>\n",
       "      <td>NaN</td>\n",
       "      <td>NaN</td>\n",
       "      <td>NaN</td>\n",
       "      <td>NaN</td>\n",
       "      <td>West Bengal</td>\n",
       "      <td>Hospitalized</td>\n",
       "      <td>27</td>\n",
       "      <td>4</td>\n",
       "      <td>2020</td>\n",
       "    </tr>\n",
       "    <tr>\n",
       "      <th>1</th>\n",
       "      <td>1</td>\n",
       "      <td>2.0</td>\n",
       "      <td>27/04/2020</td>\n",
       "      <td>NaN</td>\n",
       "      <td>NaN</td>\n",
       "      <td>NaN</td>\n",
       "      <td>Bhilwara</td>\n",
       "      <td>Rajasthan</td>\n",
       "      <td>Hospitalized</td>\n",
       "      <td>27</td>\n",
       "      <td>4</td>\n",
       "      <td>2020</td>\n",
       "    </tr>\n",
       "    <tr>\n",
       "      <th>2</th>\n",
       "      <td>2</td>\n",
       "      <td>9.0</td>\n",
       "      <td>27/04/2020</td>\n",
       "      <td>NaN</td>\n",
       "      <td>NaN</td>\n",
       "      <td>NaN</td>\n",
       "      <td>Jaipur</td>\n",
       "      <td>Rajasthan</td>\n",
       "      <td>Hospitalized</td>\n",
       "      <td>27</td>\n",
       "      <td>4</td>\n",
       "      <td>2020</td>\n",
       "    </tr>\n",
       "    <tr>\n",
       "      <th>3</th>\n",
       "      <td>3</td>\n",
       "      <td>1.0</td>\n",
       "      <td>27/04/2020</td>\n",
       "      <td>28.0</td>\n",
       "      <td>M</td>\n",
       "      <td>Surajpol</td>\n",
       "      <td>Jaipur</td>\n",
       "      <td>Rajasthan</td>\n",
       "      <td>Deceased</td>\n",
       "      <td>27</td>\n",
       "      <td>4</td>\n",
       "      <td>2020</td>\n",
       "    </tr>\n",
       "    <tr>\n",
       "      <th>4</th>\n",
       "      <td>4</td>\n",
       "      <td>1.0</td>\n",
       "      <td>27/04/2020</td>\n",
       "      <td>NaN</td>\n",
       "      <td>NaN</td>\n",
       "      <td>NaN</td>\n",
       "      <td>Jaisalmer</td>\n",
       "      <td>Rajasthan</td>\n",
       "      <td>Hospitalized</td>\n",
       "      <td>27</td>\n",
       "      <td>4</td>\n",
       "      <td>2020</td>\n",
       "    </tr>\n",
       "    <tr>\n",
       "      <th>...</th>\n",
       "      <td>...</td>\n",
       "      <td>...</td>\n",
       "      <td>...</td>\n",
       "      <td>...</td>\n",
       "      <td>...</td>\n",
       "      <td>...</td>\n",
       "      <td>...</td>\n",
       "      <td>...</td>\n",
       "      <td>...</td>\n",
       "      <td>...</td>\n",
       "      <td>...</td>\n",
       "      <td>...</td>\n",
       "    </tr>\n",
       "    <tr>\n",
       "      <th>138500</th>\n",
       "      <td>22790</td>\n",
       "      <td>2.0</td>\n",
       "      <td>07/07/2020</td>\n",
       "      <td>NaN</td>\n",
       "      <td>NaN</td>\n",
       "      <td>NaN</td>\n",
       "      <td>Dadra and Nagar Haveli</td>\n",
       "      <td>Dadra and Nagar Haveli and Daman and Diu</td>\n",
       "      <td>Hospitalized</td>\n",
       "      <td>7</td>\n",
       "      <td>7</td>\n",
       "      <td>2020</td>\n",
       "    </tr>\n",
       "    <tr>\n",
       "      <th>138501</th>\n",
       "      <td>22791</td>\n",
       "      <td>-9.0</td>\n",
       "      <td>07/07/2020</td>\n",
       "      <td>NaN</td>\n",
       "      <td>NaN</td>\n",
       "      <td>NaN</td>\n",
       "      <td>NaN</td>\n",
       "      <td>Sikkim</td>\n",
       "      <td>Recovered</td>\n",
       "      <td>7</td>\n",
       "      <td>7</td>\n",
       "      <td>2020</td>\n",
       "    </tr>\n",
       "    <tr>\n",
       "      <th>138502</th>\n",
       "      <td>22792</td>\n",
       "      <td>-6.0</td>\n",
       "      <td>07/07/2020</td>\n",
       "      <td>NaN</td>\n",
       "      <td>NaN</td>\n",
       "      <td>NaN</td>\n",
       "      <td>NaN</td>\n",
       "      <td>Sikkim</td>\n",
       "      <td>Recovered</td>\n",
       "      <td>7</td>\n",
       "      <td>7</td>\n",
       "      <td>2020</td>\n",
       "    </tr>\n",
       "    <tr>\n",
       "      <th>138503</th>\n",
       "      <td>22793</td>\n",
       "      <td>-1.0</td>\n",
       "      <td>07/07/2020</td>\n",
       "      <td>NaN</td>\n",
       "      <td>NaN</td>\n",
       "      <td>NaN</td>\n",
       "      <td>Kozhikode</td>\n",
       "      <td>Kerala</td>\n",
       "      <td>Recovered</td>\n",
       "      <td>7</td>\n",
       "      <td>7</td>\n",
       "      <td>2020</td>\n",
       "    </tr>\n",
       "    <tr>\n",
       "      <th>138504</th>\n",
       "      <td>22794</td>\n",
       "      <td>1.0</td>\n",
       "      <td>07/07/2020</td>\n",
       "      <td>NaN</td>\n",
       "      <td>NaN</td>\n",
       "      <td>NaN</td>\n",
       "      <td>Wayanad</td>\n",
       "      <td>Kerala</td>\n",
       "      <td>Recovered</td>\n",
       "      <td>7</td>\n",
       "      <td>7</td>\n",
       "      <td>2020</td>\n",
       "    </tr>\n",
       "  </tbody>\n",
       "</table>\n",
       "<p>138505 rows × 12 columns</p>\n",
       "</div>"
      ],
      "text/plain": [
       "        Unnamed: 0  Num Cases Date Announced Age Bracket Gender Detected City  \\\n",
       "0                0       38.0     27/04/2020         NaN    NaN           NaN   \n",
       "1                1        2.0     27/04/2020         NaN    NaN           NaN   \n",
       "2                2        9.0     27/04/2020         NaN    NaN           NaN   \n",
       "3                3        1.0     27/04/2020        28.0      M      Surajpol   \n",
       "4                4        1.0     27/04/2020         NaN    NaN           NaN   \n",
       "...            ...        ...            ...         ...    ...           ...   \n",
       "138500       22790        2.0     07/07/2020         NaN    NaN           NaN   \n",
       "138501       22791       -9.0     07/07/2020         NaN    NaN           NaN   \n",
       "138502       22792       -6.0     07/07/2020         NaN    NaN           NaN   \n",
       "138503       22793       -1.0     07/07/2020         NaN    NaN           NaN   \n",
       "138504       22794        1.0     07/07/2020         NaN    NaN           NaN   \n",
       "\n",
       "             Detected District                            Detected State  \\\n",
       "0                          NaN                               West Bengal   \n",
       "1                     Bhilwara                                 Rajasthan   \n",
       "2                       Jaipur                                 Rajasthan   \n",
       "3                       Jaipur                                 Rajasthan   \n",
       "4                    Jaisalmer                                 Rajasthan   \n",
       "...                        ...                                       ...   \n",
       "138500  Dadra and Nagar Haveli  Dadra and Nagar Haveli and Daman and Diu   \n",
       "138501                     NaN                                    Sikkim   \n",
       "138502                     NaN                                    Sikkim   \n",
       "138503               Kozhikode                                    Kerala   \n",
       "138504                 Wayanad                                    Kerala   \n",
       "\n",
       "       Current Status  Day  month  year  \n",
       "0        Hospitalized   27      4  2020  \n",
       "1        Hospitalized   27      4  2020  \n",
       "2        Hospitalized   27      4  2020  \n",
       "3            Deceased   27      4  2020  \n",
       "4        Hospitalized   27      4  2020  \n",
       "...               ...  ...    ...   ...  \n",
       "138500   Hospitalized    7      7  2020  \n",
       "138501      Recovered    7      7  2020  \n",
       "138502      Recovered    7      7  2020  \n",
       "138503      Recovered    7      7  2020  \n",
       "138504      Recovered    7      7  2020  \n",
       "\n",
       "[138505 rows x 12 columns]"
      ]
     },
     "execution_count": 67,
     "metadata": {},
     "output_type": "execute_result"
    }
   ],
   "source": [
    "data = pd.read_csv('covid19india.csv')\n",
    "data"
   ]
  },
  {
   "cell_type": "markdown",
   "id": "0b3f0273",
   "metadata": {},
   "source": [
    "# predict no.of covid cases using polynomial Regression"
   ]
  },
  {
   "cell_type": "code",
   "execution_count": 68,
   "id": "6439c54e",
   "metadata": {},
   "outputs": [
    {
     "data": {
      "text/plain": [
       "month  Day\n",
       "4      20      1239.0\n",
       "       21      1537.0\n",
       "       22      1292.0\n",
       "       23      1667.0\n",
       "       24      1408.0\n",
       "               ...   \n",
       "7      3      22718.0\n",
       "       4      24018.0\n",
       "       5      23942.0\n",
       "       6      22500.0\n",
       "       7      23147.0\n",
       "Name: Num Cases, Length: 79, dtype: float64"
      ]
     },
     "execution_count": 68,
     "metadata": {},
     "output_type": "execute_result"
    }
   ],
   "source": [
    "Day = data[data['Current Status'] == 'Hospitalized'].groupby(['month','Day'])['Num Cases'].sum()\n",
    "Day"
   ]
  },
  {
   "cell_type": "code",
   "execution_count": 69,
   "id": "8d013820",
   "metadata": {},
   "outputs": [
    {
     "data": {
      "text/plain": [
       "array([ 0,  1,  2,  3,  4,  5,  6,  7,  8,  9, 10, 11, 12, 13, 14, 15, 16,\n",
       "       17, 18, 19, 20, 21, 22, 23, 24, 25, 26, 27, 28, 29, 30, 31, 32, 33,\n",
       "       34, 35, 36, 37, 38, 39, 40, 41, 42, 43, 44, 45, 46, 47, 48, 49, 50,\n",
       "       51, 52, 53, 54, 55, 56, 57, 58, 59, 60, 61, 62, 63, 64, 65, 66, 67,\n",
       "       68, 69, 70, 71, 72, 73, 74, 75, 76, 77, 78])"
      ]
     },
     "execution_count": 69,
     "metadata": {},
     "output_type": "execute_result"
    }
   ],
   "source": [
    "x = np.arange(len(Day))\n",
    "x"
   ]
  },
  {
   "cell_type": "code",
   "execution_count": 70,
   "id": "d9a17f2e",
   "metadata": {},
   "outputs": [
    {
     "data": {
      "text/plain": [
       "array([ 1239.,  1537.,  1292.,  1667.,  1408.,  1835.,  1607.,  3136.,\n",
       "        3804.,  3410.,  3603.,  4792.,  5128.,  5904.,  7312.,  5942.,\n",
       "        7204.,  6688.,  6678.,  6350.,  4311.,  3592.,  3562.,  3726.,\n",
       "        3991.,  3808.,  4794.,  5049.,  4628.,  6154.,  5720.,  6023.,\n",
       "        6536.,  6665.,  7111.,  6414.,  5907.,  7246.,  7254.,  8138.,\n",
       "        8364.,  8789.,  7723.,  8812.,  9689.,  9847.,  9472., 10408.,\n",
       "       10882.,  8536.,  9981., 11156., 11135., 11306., 12039., 11404.,\n",
       "       10032., 11085., 13108., 13829., 14740., 15918., 15151., 13560.,\n",
       "       15656., 16868., 18205., 18255., 20142., 19610., 18339., 18256.,\n",
       "       19429., 21947., 22718., 24018., 23942., 22500., 23147.])"
      ]
     },
     "execution_count": 70,
     "metadata": {},
     "output_type": "execute_result"
    }
   ],
   "source": [
    "y = Day.values\n",
    "y"
   ]
  },
  {
   "cell_type": "code",
   "execution_count": 71,
   "id": "df7f1562",
   "metadata": {},
   "outputs": [
    {
     "data": {
      "text/plain": [
       "array([[1.000e+00, 0.000e+00, 0.000e+00],\n",
       "       [1.000e+00, 1.000e+00, 1.000e+00],\n",
       "       [1.000e+00, 2.000e+00, 4.000e+00],\n",
       "       [1.000e+00, 3.000e+00, 9.000e+00],\n",
       "       [1.000e+00, 4.000e+00, 1.600e+01],\n",
       "       [1.000e+00, 5.000e+00, 2.500e+01],\n",
       "       [1.000e+00, 6.000e+00, 3.600e+01],\n",
       "       [1.000e+00, 7.000e+00, 4.900e+01],\n",
       "       [1.000e+00, 8.000e+00, 6.400e+01],\n",
       "       [1.000e+00, 9.000e+00, 8.100e+01],\n",
       "       [1.000e+00, 1.000e+01, 1.000e+02],\n",
       "       [1.000e+00, 1.100e+01, 1.210e+02],\n",
       "       [1.000e+00, 1.200e+01, 1.440e+02],\n",
       "       [1.000e+00, 1.300e+01, 1.690e+02],\n",
       "       [1.000e+00, 1.400e+01, 1.960e+02],\n",
       "       [1.000e+00, 1.500e+01, 2.250e+02],\n",
       "       [1.000e+00, 1.600e+01, 2.560e+02],\n",
       "       [1.000e+00, 1.700e+01, 2.890e+02],\n",
       "       [1.000e+00, 1.800e+01, 3.240e+02],\n",
       "       [1.000e+00, 1.900e+01, 3.610e+02],\n",
       "       [1.000e+00, 2.000e+01, 4.000e+02],\n",
       "       [1.000e+00, 2.100e+01, 4.410e+02],\n",
       "       [1.000e+00, 2.200e+01, 4.840e+02],\n",
       "       [1.000e+00, 2.300e+01, 5.290e+02],\n",
       "       [1.000e+00, 2.400e+01, 5.760e+02],\n",
       "       [1.000e+00, 2.500e+01, 6.250e+02],\n",
       "       [1.000e+00, 2.600e+01, 6.760e+02],\n",
       "       [1.000e+00, 2.700e+01, 7.290e+02],\n",
       "       [1.000e+00, 2.800e+01, 7.840e+02],\n",
       "       [1.000e+00, 2.900e+01, 8.410e+02],\n",
       "       [1.000e+00, 3.000e+01, 9.000e+02],\n",
       "       [1.000e+00, 3.100e+01, 9.610e+02],\n",
       "       [1.000e+00, 3.200e+01, 1.024e+03],\n",
       "       [1.000e+00, 3.300e+01, 1.089e+03],\n",
       "       [1.000e+00, 3.400e+01, 1.156e+03],\n",
       "       [1.000e+00, 3.500e+01, 1.225e+03],\n",
       "       [1.000e+00, 3.600e+01, 1.296e+03],\n",
       "       [1.000e+00, 3.700e+01, 1.369e+03],\n",
       "       [1.000e+00, 3.800e+01, 1.444e+03],\n",
       "       [1.000e+00, 3.900e+01, 1.521e+03],\n",
       "       [1.000e+00, 4.000e+01, 1.600e+03],\n",
       "       [1.000e+00, 4.100e+01, 1.681e+03],\n",
       "       [1.000e+00, 4.200e+01, 1.764e+03],\n",
       "       [1.000e+00, 4.300e+01, 1.849e+03],\n",
       "       [1.000e+00, 4.400e+01, 1.936e+03],\n",
       "       [1.000e+00, 4.500e+01, 2.025e+03],\n",
       "       [1.000e+00, 4.600e+01, 2.116e+03],\n",
       "       [1.000e+00, 4.700e+01, 2.209e+03],\n",
       "       [1.000e+00, 4.800e+01, 2.304e+03],\n",
       "       [1.000e+00, 4.900e+01, 2.401e+03],\n",
       "       [1.000e+00, 5.000e+01, 2.500e+03],\n",
       "       [1.000e+00, 5.100e+01, 2.601e+03],\n",
       "       [1.000e+00, 5.200e+01, 2.704e+03],\n",
       "       [1.000e+00, 5.300e+01, 2.809e+03],\n",
       "       [1.000e+00, 5.400e+01, 2.916e+03],\n",
       "       [1.000e+00, 5.500e+01, 3.025e+03],\n",
       "       [1.000e+00, 5.600e+01, 3.136e+03],\n",
       "       [1.000e+00, 5.700e+01, 3.249e+03],\n",
       "       [1.000e+00, 5.800e+01, 3.364e+03],\n",
       "       [1.000e+00, 5.900e+01, 3.481e+03],\n",
       "       [1.000e+00, 6.000e+01, 3.600e+03],\n",
       "       [1.000e+00, 6.100e+01, 3.721e+03],\n",
       "       [1.000e+00, 6.200e+01, 3.844e+03],\n",
       "       [1.000e+00, 6.300e+01, 3.969e+03],\n",
       "       [1.000e+00, 6.400e+01, 4.096e+03],\n",
       "       [1.000e+00, 6.500e+01, 4.225e+03],\n",
       "       [1.000e+00, 6.600e+01, 4.356e+03],\n",
       "       [1.000e+00, 6.700e+01, 4.489e+03],\n",
       "       [1.000e+00, 6.800e+01, 4.624e+03],\n",
       "       [1.000e+00, 6.900e+01, 4.761e+03],\n",
       "       [1.000e+00, 7.000e+01, 4.900e+03],\n",
       "       [1.000e+00, 7.100e+01, 5.041e+03],\n",
       "       [1.000e+00, 7.200e+01, 5.184e+03],\n",
       "       [1.000e+00, 7.300e+01, 5.329e+03],\n",
       "       [1.000e+00, 7.400e+01, 5.476e+03],\n",
       "       [1.000e+00, 7.500e+01, 5.625e+03],\n",
       "       [1.000e+00, 7.600e+01, 5.776e+03],\n",
       "       [1.000e+00, 7.700e+01, 5.929e+03],\n",
       "       [1.000e+00, 7.800e+01, 6.084e+03]])"
      ]
     },
     "execution_count": 71,
     "metadata": {},
     "output_type": "execute_result"
    }
   ],
   "source": [
    "from sklearn.preprocessing import PolynomialFeatures\n",
    "Poly = PolynomialFeatures(degree = 2)\n",
    "X = Poly.fit_transform(x.reshape(-1,1))\n",
    "X"
   ]
  },
  {
   "cell_type": "code",
   "execution_count": 72,
   "id": "a282f27f",
   "metadata": {},
   "outputs": [
    {
     "data": {
      "text/html": [
       "<div>\n",
       "<style scoped>\n",
       "    .dataframe tbody tr th:only-of-type {\n",
       "        vertical-align: middle;\n",
       "    }\n",
       "\n",
       "    .dataframe tbody tr th {\n",
       "        vertical-align: top;\n",
       "    }\n",
       "\n",
       "    .dataframe thead th {\n",
       "        text-align: right;\n",
       "    }\n",
       "</style>\n",
       "<table border=\"1\" class=\"dataframe\">\n",
       "  <thead>\n",
       "    <tr style=\"text-align: right;\">\n",
       "      <th></th>\n",
       "      <th>0</th>\n",
       "      <th>1</th>\n",
       "      <th>2</th>\n",
       "    </tr>\n",
       "  </thead>\n",
       "  <tbody>\n",
       "    <tr>\n",
       "      <th>0</th>\n",
       "      <td>1.0</td>\n",
       "      <td>0.0</td>\n",
       "      <td>0.0</td>\n",
       "    </tr>\n",
       "    <tr>\n",
       "      <th>1</th>\n",
       "      <td>1.0</td>\n",
       "      <td>1.0</td>\n",
       "      <td>1.0</td>\n",
       "    </tr>\n",
       "    <tr>\n",
       "      <th>2</th>\n",
       "      <td>1.0</td>\n",
       "      <td>2.0</td>\n",
       "      <td>4.0</td>\n",
       "    </tr>\n",
       "    <tr>\n",
       "      <th>3</th>\n",
       "      <td>1.0</td>\n",
       "      <td>3.0</td>\n",
       "      <td>9.0</td>\n",
       "    </tr>\n",
       "    <tr>\n",
       "      <th>4</th>\n",
       "      <td>1.0</td>\n",
       "      <td>4.0</td>\n",
       "      <td>16.0</td>\n",
       "    </tr>\n",
       "    <tr>\n",
       "      <th>...</th>\n",
       "      <td>...</td>\n",
       "      <td>...</td>\n",
       "      <td>...</td>\n",
       "    </tr>\n",
       "    <tr>\n",
       "      <th>74</th>\n",
       "      <td>1.0</td>\n",
       "      <td>74.0</td>\n",
       "      <td>5476.0</td>\n",
       "    </tr>\n",
       "    <tr>\n",
       "      <th>75</th>\n",
       "      <td>1.0</td>\n",
       "      <td>75.0</td>\n",
       "      <td>5625.0</td>\n",
       "    </tr>\n",
       "    <tr>\n",
       "      <th>76</th>\n",
       "      <td>1.0</td>\n",
       "      <td>76.0</td>\n",
       "      <td>5776.0</td>\n",
       "    </tr>\n",
       "    <tr>\n",
       "      <th>77</th>\n",
       "      <td>1.0</td>\n",
       "      <td>77.0</td>\n",
       "      <td>5929.0</td>\n",
       "    </tr>\n",
       "    <tr>\n",
       "      <th>78</th>\n",
       "      <td>1.0</td>\n",
       "      <td>78.0</td>\n",
       "      <td>6084.0</td>\n",
       "    </tr>\n",
       "  </tbody>\n",
       "</table>\n",
       "<p>79 rows × 3 columns</p>\n",
       "</div>"
      ],
      "text/plain": [
       "      0     1       2\n",
       "0   1.0   0.0     0.0\n",
       "1   1.0   1.0     1.0\n",
       "2   1.0   2.0     4.0\n",
       "3   1.0   3.0     9.0\n",
       "4   1.0   4.0    16.0\n",
       "..  ...   ...     ...\n",
       "74  1.0  74.0  5476.0\n",
       "75  1.0  75.0  5625.0\n",
       "76  1.0  76.0  5776.0\n",
       "77  1.0  77.0  5929.0\n",
       "78  1.0  78.0  6084.0\n",
       "\n",
       "[79 rows x 3 columns]"
      ]
     },
     "execution_count": 72,
     "metadata": {},
     "output_type": "execute_result"
    }
   ],
   "source": [
    "pd.DataFrame(X)"
   ]
  },
  {
   "cell_type": "code",
   "execution_count": 74,
   "id": "7729add5",
   "metadata": {},
   "outputs": [
    {
     "data": {
      "text/plain": [
       "LinearRegression()"
      ]
     },
     "execution_count": 74,
     "metadata": {},
     "output_type": "execute_result"
    }
   ],
   "source": [
    "from sklearn.linear_model import LinearRegression \n",
    "reg = LinearRegression()\n",
    "reg.fit(X,y)"
   ]
  },
  {
   "cell_type": "code",
   "execution_count": 75,
   "id": "6cbce9a7",
   "metadata": {},
   "outputs": [
    {
     "data": {
      "text/plain": [
       "array([  0.        , -29.58318942,   3.64839913])"
      ]
     },
     "execution_count": 75,
     "metadata": {},
     "output_type": "execute_result"
    }
   ],
   "source": [
    "reg.coef_"
   ]
  },
  {
   "cell_type": "code",
   "execution_count": 77,
   "id": "47509070",
   "metadata": {},
   "outputs": [
    {
     "data": {
      "text/plain": [
       "3342.336451007968"
      ]
     },
     "execution_count": 77,
     "metadata": {},
     "output_type": "execute_result"
    }
   ],
   "source": [
    "reg.intercept_"
   ]
  },
  {
   "cell_type": "code",
   "execution_count": 79,
   "id": "5d31ff59",
   "metadata": {},
   "outputs": [
    {
     "data": {
      "text/plain": [
       "array([ 3342.33645101,  3316.40166072,  3297.76366868,  3286.4224749 ,\n",
       "        3282.37807937,  3285.63048211,  3296.17968309,  3314.02568233,\n",
       "        3339.16847983,  3371.60807559,  3411.3444696 ,  3458.37766186,\n",
       "        3512.70765238,  3574.33444116,  3643.25802819,  3719.47841348,\n",
       "        3802.99559702,  3893.80957882,  3991.92035887,  4097.32793718,\n",
       "        4210.03231375,  4330.03348857,  4457.33146165,  4591.92623298,\n",
       "        4733.81780257,  4883.00617041,  5039.49133651,  5203.27330087,\n",
       "        5374.35206348,  5552.72762434,  5738.39998347,  5931.36914085,\n",
       "        6131.63509648,  6339.19785037,  6554.05740251,  6776.21375291,\n",
       "        7005.66690157,  7242.41684848,  7486.46359365,  7737.80713707,\n",
       "        7996.44747875,  8262.38461869,  8535.61855688,  8816.14929332,\n",
       "        9103.97682802,  9399.10116098,  9701.52229219, 10011.24022166,\n",
       "       10328.25494939, 10652.56647537, 10984.1747996 , 11323.07992209,\n",
       "       11669.28184284, 12022.78056184, 12383.5760791 , 12751.66839462,\n",
       "       13127.05750838, 13509.74342041, 13899.72613069, 14297.00563923,\n",
       "       14701.58194602, 15113.45505107, 15532.62495437, 15959.09165593,\n",
       "       16392.85515574, 16833.91545381, 17282.27255014, 17737.92644472,\n",
       "       18200.87713756, 18671.12462865, 19148.668918  , 19633.51000561,\n",
       "       20125.64789147, 20625.08257558, 21131.81405795, 21645.84233858,\n",
       "       22167.16741746, 22695.7892946 , 23231.70797   ])"
      ]
     },
     "execution_count": 79,
     "metadata": {},
     "output_type": "execute_result"
    }
   ],
   "source": [
    "yp = reg.predict(X)\n",
    "yp"
   ]
  },
  {
   "cell_type": "code",
   "execution_count": 80,
   "id": "b01c6523",
   "metadata": {},
   "outputs": [
    {
     "data": {
      "image/png": "[encoded data removed]",
      "text/plain": [
       "<Figure size 432x288 with 1 Axes>"
      ]
     },
     "metadata": {
      "needs_background": "light"
     },
     "output_type": "display_data"
    }
   ],
   "source": [
    "plt.scatter(x,y)\n",
    "plt.plot(x,yp,color = 'k')\n",
    "plt.show()"
   ]
  },
  {
   "cell_type": "code",
   "execution_count": 81,
   "id": "ad3f032d",
   "metadata": {},
   "outputs": [
    {
     "data": {
      "text/plain": [
       "95.21995838701403"
      ]
     },
     "execution_count": 81,
     "metadata": {},
     "output_type": "execute_result"
    }
   ],
   "source": [
    "reg.score(X,y)*100"
   ]
  },
  {
   "cell_type": "code",
   "execution_count": 87,
   "id": "3fa07321",
   "metadata": {},
   "outputs": [
    {
     "data": {
      "text/plain": [
       "array([36868.00878734])"
      ]
     },
     "execution_count": 87,
     "metadata": {},
     "output_type": "execute_result"
    }
   ],
   "source": [
    "reg.predict(Poly.transform([[100]]))"
   ]
  },
  {
   "cell_type": "code",
   "execution_count": null,
   "id": "7d7b46b8",
   "metadata": {},
   "outputs": [],
   "source": []
  }
 ],
 "metadata": {
  "kernelspec": {
   "display_name": "Python 3 (ipykernel)",
   "language": "python",
   "name": "python3"
  },
  "language_info": {
   "codemirror_mode": {
    "name": "ipython",
    "version": 3
   },
   "file_extension": ".py",
   "mimetype": "text/x-python",
   "name": "python",
   "nbconvert_exporter": "python",
   "pygments_lexer": "ipython3",
   "version": "3.9.12"
  }
 },
 "nbformat": 4,
 "nbformat_minor": 5
}
